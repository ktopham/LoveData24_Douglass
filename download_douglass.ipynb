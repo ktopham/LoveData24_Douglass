{
 "cells": [
  {
   "cell_type": "code",
   "execution_count": null,
   "id": "1bfa9ff1",
   "metadata": {},
   "outputs": [],
   "source": [
    "import requests\n",
    "import json"
   ]
  },
  {
   "cell_type": "code",
   "execution_count": null,
   "id": "5a9b542c",
   "metadata": {},
   "outputs": [],
   "source": [
    "CACHE_FNAME = 'douglass_cache.json'\n",
    "try:\n",
    "    cache_file = open(CACHE_FNAME, 'r')\n",
    "    cache_contents = cache_file.read()\n",
    "    CACHE_DICTION = json.loads(cache_contents)\n",
    "    cache_file.close()\n",
    "except:\n",
    "    CACHE_DICTION = {}\n",
    "\n",
    "    \n",
    "def write_to_cache(url, book):\n",
    "    CACHE_DICTION[url] = book\n",
    "    dumped_json_cache = json.dumps(CACHE_DICTION)\n",
    "    fw = open(CACHE_FNAME,\"w\")\n",
    "    fw.write(dumped_json_cache)\n",
    "    fw.close()\n",
    "    "
   ]
  },
  {
   "cell_type": "code",
   "execution_count": null,
   "id": "fa4c7dad",
   "metadata": {},
   "outputs": [],
   "source": [
    "with open('links.txt','r') as fin:\n",
    "    links = fin.readlines()\n",
    "    \n",
    "print(len(links))"
   ]
  },
  {
   "cell_type": "code",
   "execution_count": null,
   "id": "cb9492ac",
   "metadata": {
    "scrolled": true
   },
   "outputs": [],
   "source": [
    "for link in links:\n",
    "    if link in CACHE_DICTION:\n",
    "        print('already in cache')\n",
    "    else:\n",
    "        resp = requests.get(link.strip('\\n')).text\n",
    "        filename = link.strip('\\n').split('/')[-2] + '.txt'\n",
    "        title = resp.split('\\n')[10][7:]\n",
    "        if \"STATES ***\" in resp:\n",
    "            text = resp.split('STATES ***')[2]\n",
    "            \n",
    "        else: \n",
    "            text = resp.split('***')[2]\n",
    "        book = {}\n",
    "        book['text'] = text.replace('\\n',' ').replace('\\r',' ').replace('\\u2014',' ').replace('  ',' ')\n",
    "        book['title'] = title.replace('\\n',' ').replace('\\r','')\n",
    "        write_to_cache(link,book)\n",
    "        print(book['title'])\n",
    "        print(len(book['text']))\n"
   ]
  },
  {
   "cell_type": "code",
   "execution_count": null,
   "id": "ade90806",
   "metadata": {},
   "outputs": [],
   "source": []
  }
 ],
 "metadata": {
  "kernelspec": {
   "display_name": "Python 3 (ipykernel)",
   "language": "python",
   "name": "python3"
  },
  "language_info": {
   "codemirror_mode": {
    "name": "ipython",
    "version": 3
   },
   "file_extension": ".py",
   "mimetype": "text/x-python",
   "name": "python",
   "nbconvert_exporter": "python",
   "pygments_lexer": "ipython3",
   "version": "3.7.9"
  }
 },
 "nbformat": 4,
 "nbformat_minor": 5
}
