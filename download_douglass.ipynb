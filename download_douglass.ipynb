{
 "cells": [
  {
   "cell_type": "code",
   "execution_count": 2,
   "id": "fa4c7dad",
   "metadata": {},
   "outputs": [
    {
     "name": "stdout",
     "output_type": "stream",
     "text": [
      "['https://www.gutenberg.org/cache/epub/34915/pg34915.txt\\n', 'https://www.gutenberg.org/cache/epub/99/pg99.txt\\n', 'https://www.gutenberg.org/cache/epub/67919/pg67919.txt\\n', 'https://www.gutenberg.org/cache/epub/23/pg23.txt\\n', 'https://www.gutenberg.org/cache/epub/202/pg202.txt\\n', 'https://www.gutenberg.org/cache/epub/71893/pg71893.txt\\n', 'https://www.gutenberg.org/cache/epub/67919/pg67919.txt\\n', 'https://www.gutenberg.org/cache/epub/31839/pg31839.txt\\n', 'https://www.gutenberg.org/cache/epub/59116/pg59116.txt']\n"
     ]
    }
   ],
   "source": [
    "with open('links.txt','r') as fin:\n",
    "    links = fin.readlines()\n",
    "    \n",
    "print(links)"
   ]
  },
  {
   "cell_type": "code",
   "execution_count": 52,
   "id": "cb9492ac",
   "metadata": {},
   "outputs": [
    {
     "name": "stdout",
     "output_type": "stream",
     "text": [
      "9\n"
     ]
    }
   ],
   "source": [
    "import requests\n",
    "\n",
    "dicts = []\n",
    "\n",
    "for link in links:\n",
    "    resp = requests.get(link.strip('\\n')).text\n",
    "    filename = link.strip('\\n').split('/')[-2] + '.txt'\n",
    "    title = resp.split('\\n')[10][7:]\n",
    "    text = resp.split('***')[2]\n",
    "    book = {}\n",
    "    book['text'] = text\n",
    "    book['title'] = title\n",
    "    dicts.append(book)\n",
    "print(len(dicts))\n",
    "    "
   ]
  },
  {
   "cell_type": "code",
   "execution_count": 56,
   "id": "b27dee8f",
   "metadata": {},
   "outputs": [
    {
     "name": "stdout",
     "output_type": "stream",
     "text": [
      "My Bondage and My Freedom\r\n"
     ]
    }
   ],
   "source": [
    "print(dicts[4]['title'])"
   ]
  }
 ],
 "metadata": {
  "kernelspec": {
   "display_name": "Python 3 (ipykernel)",
   "language": "python",
   "name": "python3"
  },
  "language_info": {
   "codemirror_mode": {
    "name": "ipython",
    "version": 3
   },
   "file_extension": ".py",
   "mimetype": "text/x-python",
   "name": "python",
   "nbconvert_exporter": "python",
   "pygments_lexer": "ipython3",
   "version": "3.7.9"
  }
 },
 "nbformat": 4,
 "nbformat_minor": 5
}
