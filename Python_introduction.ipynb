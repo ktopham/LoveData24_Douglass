{
 "cells": [
  {
   "cell_type": "markdown",
   "id": "639f3191",
   "metadata": {},
   "source": [
    "## Quick note about Jupyter cells\n",
    "\n",
    "When you are editing a cell in Jupyter notebook, you can run the cell by pressing **`<Shift> + <Enter>`**, or by using the \"Run\" or \"Play\" options. This will execute the code in ithe cell and allow any changes you made to be available to other cells.\n",
    "\n",
    "Use **`<Enter>`** to make new lines inside a cell you are editing.\n",
    "\n",
    "#### Code cells\n",
    "\n",
    "Re-running will execute any statements you have written. To edit an existing code cell, click on it.\n",
    "\n",
    "#### Markdown cells\n",
    "\n",
    "Re-running will render the markdown text. To edit an existing markdown cell, double-click on it.\n",
    "\n",
    "<hr>"
   ]
  },
  {
   "cell_type": "markdown",
   "id": "ede1901f",
   "metadata": {},
   "source": [
    "## Common Jupyter operations\n",
    "\n",
    "Near the top of the Jupyter notebook window, there are a row of menu options (`File`, `Edit`, `View`, `Insert`, ...) and a row of tool bar icons (disk, plus sign, scissors, 2 files, clipboard and file, up arrow, ...).\n",
    "\n",
    "#### Inserting and removing cells\n",
    "\n",
    "- Use the \"plus sign\" icon to insert a cell below the currently selected cell\n",
    "- Use \"Insert\" -> \"Insert Cell Above\" from the menu to insert above\n",
    "\n",
    "#### Clear the output of all cells\n",
    "\n",
    "- Use \"Kernel\" -> \"Restart\" from the menu to restart the kernel\n",
    "    - click on \"clear all outputs & restart\" to have all the output cleared\n",
    "\n",
    "#### Save your notebook file locally\n",
    "\n",
    "- Clear the output of all cells\n",
    "- Use \"File\" -> \"Download as\" -> \"IPython Notebook (.ipynb)\" to download a notebook file representing your https://mybinder.org session\n",
    "\n",
    "<hr>"
   ]
  },
  {
   "cell_type": "markdown",
   "id": "640d9890",
   "metadata": {},
   "source": [
    "## References\n",
    "\n",
    "This python Introduction is adapted from one created by Devin Higgins, Head of Digital Development & Strategies for the MSU Libraries, for the Text Analysis Learning Group. [See original here](https://github.com/ktopham/TALG_PythonSS23)\n",
    "- https://jupyter-notebook.readthedocs.io/en/latest/notebook.html\n",
    "- https://mybinder.readthedocs.io/en/latest/introduction.html\n",
    "- https://docs.python.org/3/tutorial/index.html\n",
    "- https://docs.python.org/3/tutorial/introduction.html\n",
    "- https://daringfireball.net/projects/markdown/syntax\n",
    "\n",
    "<hr>"
   ]
  },
  {
   "cell_type": "markdown",
   "id": "aaebae62",
   "metadata": {},
   "source": [
    "## Python objects, basic types, and variables\n",
    "\n",
    "Everything in Python is an **object** and every object in Python has a **type**. Some of the basic types include:\n",
    "\n",
    "- **`int`** (integer; a whole number with no decimal place)\n",
    "  - `10`\n",
    "  - `-3`\n",
    "- **`float`** (float; a number that has a decimal place)\n",
    "  - `7.41`\n",
    "  - `-0.006`\n",
    "- **`str`** (string; a sequence of characters enclosed in single quotes, double quotes, or triple quotes)\n",
    "  - `'this is a string using single quotes'`\n",
    "  - `\"this is a string using double quotes\"`\n",
    "  - `'''this is a triple quoted string using single quotes'''`\n",
    "  - `\"\"\"this is a triple quoted string using double quotes\"\"\"`\n",
    "- **`bool`** (boolean; a binary value that is either true or false)\n",
    "  - `True`\n",
    "  - `False`\n",
    "- **`NoneType`** (a special type representing the absence of a value)\n",
    "  - `None`\n",
    "\n",
    "In Python, a **variable** is a name you specify in your code that maps to a particular **object**, object **instance**, or value.\n",
    "\n",
    "By defining variables, we can refer to things by names that make sense to us. Names for variables can only contain letters, underscores (`_`), or numbers (no spaces, dashes, or other characters). Variable names must start with a letter or underscore.\n",
    "\n",
    "<hr>"
   ]
  },
  {
   "cell_type": "markdown",
   "id": "2c7169b3",
   "metadata": {},
   "source": [
    "## Basic operators\n",
    "\n",
    "In Python, there are different types of **operators** (special symbols) that operate on different values. Some of the basic operators include:\n",
    "\n",
    "- arithmetic operators\n",
    "  - **`+`** (addition)\n",
    "  - **`-`** (subtraction)\n",
    "  - **`*`** (multiplication)\n",
    "  - **`/`** (division)\n",
    "  - __`**`__ (exponent)\n",
    "- assignment operators\n",
    "  - **`=`** (assign a value)\n",
    "  - **`+=`** (add and re-assign; increment)\n",
    "  - **`-=`** (subtract and re-assign; decrement)\n",
    "  - **`*=`** (multiply and re-assign)\n",
    "- comparison operators (return either `True` or `False`)\n",
    "  - **`==`** (equal to)\n",
    "  - **`!=`** (not equal to)\n",
    "  - **`<`** (less than)\n",
    "  - **`<=`** (less than or equal to)\n",
    "  - **`>`** (greater than)\n",
    "  - **`>=`** (greater than or equal to)\n",
    "\n",
    "When multiple operators are used in a single expression, **operator precedence** determines which parts of the expression are evaluated in which order. Operators with higher precedence are evaluated first (like PEMDAS in math). Operators with the same precedence are evaluated from left to right.\n",
    "\n",
    "- `()` parentheses, for grouping\n",
    "- `**` exponent\n",
    "- `*`, `/` multiplication and division\n",
    "- `+`, `-` addition and subtraction\n",
    "- `==`, `!=`, `<`, `<=`, `>`, `>=` comparisons\n",
    "\n",
    "> See https://docs.python.org/3/reference/expressions.html#operator-precedence"
   ]
  },
  {
   "cell_type": "code",
   "execution_count": null,
   "id": "344a7959",
   "metadata": {},
   "outputs": [],
   "source": [
    "num1 = 10\n",
    "num2 = -3\n",
    "num3 = 7.41\n",
    "num4 = -.6\n",
    "num5 = 7\n",
    "num6 = 3\n",
    "num7 = 11.11"
   ]
  },
  {
   "cell_type": "code",
   "execution_count": null,
   "id": "bd81f9e4",
   "metadata": {},
   "outputs": [],
   "source": [
    "newnum = num1 * num3\n",
    "print(newnum)"
   ]
  },
  {
   "cell_type": "code",
   "execution_count": null,
   "id": "e805491a",
   "metadata": {},
   "outputs": [],
   "source": [
    "num2 < num4"
   ]
  },
  {
   "cell_type": "code",
   "execution_count": null,
   "id": "3b809ce5",
   "metadata": {},
   "outputs": [],
   "source": [
    "print(1 == 1)\n",
    "print(num1 == 10)\n",
    "print(num3 > num1)"
   ]
  },
  {
   "cell_type": "code",
   "execution_count": null,
   "id": "94bebe62",
   "metadata": {},
   "outputs": [],
   "source": [
    "1 == \"1\""
   ]
  },
  {
   "cell_type": "code",
   "execution_count": null,
   "id": "e38a09df",
   "metadata": {},
   "outputs": [],
   "source": [
    "\"1\" * 9"
   ]
  },
  {
   "cell_type": "code",
   "execution_count": null,
   "id": "e8c3adbb",
   "metadata": {},
   "outputs": [],
   "source": [
    "a = \"La\"\n",
    "a * 100"
   ]
  },
  {
   "cell_type": "code",
   "execution_count": null,
   "id": "f7cec754",
   "metadata": {},
   "outputs": [],
   "source": [
    "# Try things here!"
   ]
  },
  {
   "cell_type": "markdown",
   "id": "744a693b",
   "metadata": {},
   "source": [
    "## Basic containers\n",
    "\n",
    "> Note: **mutable** objects can be modified after creation and **immutable** objects cannot.\n",
    "\n",
    "Containers are objects that can be used to group other objects together. The basic container types include:\n",
    "\n",
    "- **`str`** (string: immutable; indexed by integers; items are stored in the order they were added)\n",
    "- **`list`** (list: mutable; indexed by integers; items are stored in the order they were added)\n",
    "  - `[3, 5, 6, 3, 'dog', 'cat', False]`\n",
    "- **`tuple`** (tuple: immutable; indexed by integers; items are stored in the order they were added)\n",
    "  - `(3, 5, 6, 3, 'dog', 'cat', False)`\n",
    "- **`set`** (set: mutable; not indexed at all; items are NOT stored in the order they were added; can only contain immutable objects; does NOT contain duplicate objects)\n",
    "  - `{3, 5, 6, 3, 'dog', 'cat', False}`\n",
    "- **`dict`** (dictionary: mutable; key-value pairs are indexed by immutable keys; items are NOT stored in the order they were added)\n",
    "  - `{'name': 'Jane', 'age': 23, 'fav_foods': ['pizza', 'fruit', 'fish']}`\n",
    "\n",
    "When defining lists, tuples, or sets, use commas (,) to separate the individual items. When defining dicts, use a colon (:) to separate keys from values and commas (,) to separate the key-value pairs.\n",
    "\n",
    "Strings, lists, and tuples are all **sequence types** that can use the `+`, `*`, `+=`, and `*=` operators."
   ]
  },
  {
   "cell_type": "code",
   "execution_count": null,
   "id": "f73eca8e",
   "metadata": {},
   "outputs": [],
   "source": [
    "a = \"HellO WOrld\"\n",
    "print(a.upper())\n",
    "print(a.lower())\n",
    "print(a.swapcase())\n",
    "print(a.lower().replace(\"hello\", \"goodbye\").upper())\n",
    "print(a.count(\"l\"))\n",
    "print(a[0])\n",
    "print(a[0:4])\n",
    "print(a[-4:-1])\n",
    "print(a.lower().replace(\" \", \"\") * 10)"
   ]
  },
  {
   "cell_type": "code",
   "execution_count": null,
   "id": "e6b5bff6",
   "metadata": {},
   "outputs": [],
   "source": [
    "# Assign some containers to different variables\n",
    "list1 = [3, 5, 6, 3, 'dog', 'cat', False]\n",
    "tuple1 = (3, 5, 6, 3, 'dog', 'cat', False)\n",
    "set1 = {3, 5, 6, 3, 'dog', 'cat', False}\n",
    "dict1 = {'name': 'Jane', 'age': 23, 'fav_foods': ['pizza', 'fruit', 'fish']}"
   ]
  },
  {
   "cell_type": "code",
   "execution_count": null,
   "id": "d0b8ab81",
   "metadata": {},
   "outputs": [],
   "source": [
    "list1.append(\"grapefruit\")\n",
    "list1.remove(3)\n",
    "list1.reverse()\n",
    "print(list1)"
   ]
  },
  {
   "cell_type": "code",
   "execution_count": null,
   "id": "912ea934",
   "metadata": {},
   "outputs": [],
   "source": [
    "print(dict1[\"name\"])\n",
    "dict1[\"name\"] = \"Holly\"\n",
    "print(dict1[\"name\"])"
   ]
  },
  {
   "cell_type": "code",
   "execution_count": null,
   "id": "3fdb44ef",
   "metadata": {},
   "outputs": [],
   "source": [
    "# Try things here!"
   ]
  },
  {
   "cell_type": "markdown",
   "id": "f7232e5f",
   "metadata": {},
   "source": [
    "## Python built-in functions and callables\n",
    "\n",
    "A **function** is a Python object that you can \"call\" to **perform an action** or compute and **return another object**. You call a function by placing parentheses to the right of the function name. Some functions allow you to pass **arguments** inside the parentheses (separating multiple arguments with a comma). Internal to the function, these arguments are treated like variables.\n",
    "\n",
    "Python has several useful built-in functions to help you work with different objects and/or your environment. Here is a small sample of them:\n",
    "\n",
    "- **`type(obj)`** to determine the type of an object\n",
    "- **`len(container)`** to determine how many items are in a container\n",
    "- **`sorted(container)`** to return a new list from a container, with the items sorted\n",
    "- **`sum(container)`** to compute the sum of a container of numbers\n",
    "- **`min(container)`** to determine the smallest item in a container\n",
    "- **`max(container)`** to determine the largest item in a container\n",
    "\n",
    "> Complete list of built-in functions: https://docs.python.org/3/library/functions.html\n",
    "\n",
    "There are also different ways of defining your own functions and callable objects that we will explore later."
   ]
  },
  {
   "cell_type": "code",
   "execution_count": null,
   "id": "16991c3f",
   "metadata": {},
   "outputs": [],
   "source": [
    "type(dict1)"
   ]
  },
  {
   "cell_type": "code",
   "execution_count": null,
   "id": "06d70c28",
   "metadata": {},
   "outputs": [],
   "source": [
    "type(\"hello\")"
   ]
  },
  {
   "cell_type": "code",
   "execution_count": null,
   "id": "a43f4326",
   "metadata": {},
   "outputs": [],
   "source": [
    "type(1)"
   ]
  },
  {
   "cell_type": "code",
   "execution_count": null,
   "id": "91f87eab",
   "metadata": {},
   "outputs": [],
   "source": [
    "type([])"
   ]
  },
  {
   "cell_type": "code",
   "execution_count": null,
   "id": "4cc0e785",
   "metadata": {},
   "outputs": [],
   "source": [
    "len(list1)"
   ]
  },
  {
   "cell_type": "code",
   "execution_count": null,
   "id": "80479766",
   "metadata": {},
   "outputs": [],
   "source": [
    "b = [\"y\", \"p\", \"z\", \"a\", \"t\"]\n",
    "print(sorted(b))"
   ]
  },
  {
   "cell_type": "code",
   "execution_count": null,
   "id": "8279141e",
   "metadata": {},
   "outputs": [],
   "source": [
    "sorted(dict1)"
   ]
  },
  {
   "cell_type": "code",
   "execution_count": null,
   "id": "b378cf1a",
   "metadata": {},
   "outputs": [],
   "source": [
    "# Try things here!"
   ]
  },
  {
   "cell_type": "markdown",
   "id": "4b03d7ae",
   "metadata": {},
   "source": [
    "## Python \"for loops\"\n",
    "\n",
    "It is easy to **iterate** over a collection of items using a **for loop**. The strings, lists, tuples, sets, and dictionaries we defined are all **iterable** containers.\n",
    "\n",
    "The for loop will go through the specified container, one item at a time, and provide a temporary variable for the current item. You can use this temporary variable like a normal variable."
   ]
  },
  {
   "cell_type": "code",
   "execution_count": null,
   "id": "bfe0da01",
   "metadata": {},
   "outputs": [],
   "source": [
    "for x in list1:\n",
    "    print(x)"
   ]
  },
  {
   "cell_type": "code",
   "execution_count": null,
   "id": "403755bd",
   "metadata": {},
   "outputs": [],
   "source": [
    "for banana in list1:\n",
    "    print(banana * 10)"
   ]
  },
  {
   "cell_type": "markdown",
   "id": "515c50dc",
   "metadata": {},
   "source": [
    "## Python \"if statements\" and \"while loops\"\n",
    "\n",
    "Conditional expressions can be used with these two **conditional statements**.\n",
    "\n",
    "The **if statement** allows you to test a condition and perform some actions if the condition evaluates to `True`. You can also provide `elif` and/or `else` clauses to an if statement to take alternative actions if the condition evaluates to `False`.\n",
    "\n",
    "The **while loop** will keep looping until its conditional expression evaluates to `False`.\n",
    "\n",
    "> Note: It is possible to \"loop forever\" when using a while loop with a conditional expression that never evaluates to `False`.\n",
    ">\n",
    "> Note: Since the **for loop** will iterate over a container of items until there are no more, there is no need to specify a \"stop looping\" condition."
   ]
  },
  {
   "cell_type": "code",
   "execution_count": null,
   "id": "9f255159",
   "metadata": {},
   "outputs": [],
   "source": [
    "if len(list1) == 5:\n",
    "    print(\"yes\")"
   ]
  },
  {
   "cell_type": "code",
   "execution_count": null,
   "id": "fa236aa6",
   "metadata": {},
   "outputs": [],
   "source": [
    "print(\"Does list1 contain 5 objects?\")\n",
    "\n",
    "if len(list1) == 5:\n",
    "    print(\"yes\")\n",
    "else:\n",
    "    print(\"no\")"
   ]
  },
  {
   "cell_type": "markdown",
   "id": "416d276d",
   "metadata": {},
   "source": [
    "## Putting it all together and loading a file!"
   ]
  },
  {
   "cell_type": "code",
   "execution_count": null,
   "id": "f2b4bb84",
   "metadata": {},
   "outputs": [],
   "source": [
    "import json\n",
    "with open(\"douglass_cache.json\") as f:\n",
    "    cache_contents = f.read()\n",
    "    books = json.loads(cache_contents)\n",
    "    \n",
    "print(type(books))"
   ]
  },
  {
   "cell_type": "code",
   "execution_count": null,
   "id": "61505173",
   "metadata": {},
   "outputs": [],
   "source": [
    "#let's look at just one work\n",
    "douglass_dict = books[list(books.keys())[0]] # a dictionary containing the title and text of one work by Frederick Douglass\n",
    "douglass_dict['title']"
   ]
  },
  {
   "cell_type": "code",
   "execution_count": null,
   "id": "6cdac966",
   "metadata": {},
   "outputs": [],
   "source": [
    "text = douglass_dict['text'] #the text of Abolition Fanaticism in New York\n",
    "words = text.split(\" \")"
   ]
  },
  {
   "cell_type": "code",
   "execution_count": null,
   "id": "bcfb0ec6",
   "metadata": {},
   "outputs": [],
   "source": [
    "len(words)"
   ]
  },
  {
   "cell_type": "code",
   "execution_count": null,
   "id": "e95bae4a",
   "metadata": {},
   "outputs": [],
   "source": [
    "len(set(words))"
   ]
  },
  {
   "cell_type": "code",
   "execution_count": null,
   "id": "1e374c13",
   "metadata": {},
   "outputs": [],
   "source": [
    "len(words) / len(set(words))"
   ]
  },
  {
   "cell_type": "code",
   "execution_count": null,
   "id": "c0193653",
   "metadata": {},
   "outputs": [],
   "source": [
    "for word in words:\n",
    "    print(word)\n",
    "    break"
   ]
  },
  {
   "cell_type": "code",
   "execution_count": null,
   "id": "a17c09d2",
   "metadata": {},
   "outputs": [],
   "source": [
    "words[:50]"
   ]
  },
  {
   "cell_type": "code",
   "execution_count": null,
   "id": "090a0b06",
   "metadata": {},
   "outputs": [],
   "source": [
    "word_counts = {}\n",
    "\n",
    "for word in words:\n",
    "    if word in word_counts:\n",
    "        word_counts[word] = word_counts[word] + 1\n",
    "    else:\n",
    "        word_counts[word] = 1"
   ]
  },
  {
   "cell_type": "code",
   "execution_count": null,
   "id": "2fefab00",
   "metadata": {},
   "outputs": [],
   "source": [
    "from pprint import pprint\n",
    "\n",
    "pprint(word_counts)"
   ]
  },
  {
   "cell_type": "code",
   "execution_count": null,
   "id": "480454f4",
   "metadata": {},
   "outputs": [],
   "source": [
    "import string\n",
    "import re\n",
    "\n",
    "def get_word_counts(data_file):\n",
    "    with open(data_file) as f:\n",
    "        cache_contents = f.read()\n",
    "        books = json.loads(cache_contents)\n",
    "        book = books['https://www.gutenberg.org/cache/epub/23/pg23.txt\\n']\n",
    "        text = book['text'].lower().translate(str.maketrans('', '', string.punctuation))\n",
    "        words = re.split(r'\\s+', text)\n",
    "        word_counts = {}\n",
    "        for word in words:\n",
    "            if word in word_counts:\n",
    "                word_counts[word] = word_counts[word] + 1\n",
    "            else:\n",
    "                word_counts[word] = 1\n",
    "                \n",
    "#         print(word_counts)\n",
    "        return word_counts"
   ]
  },
  {
   "cell_type": "code",
   "execution_count": null,
   "id": "9773171c",
   "metadata": {},
   "outputs": [],
   "source": [
    "word_counts = get_word_counts(\"douglass_cache.json\")"
   ]
  },
  {
   "cell_type": "code",
   "execution_count": null,
   "id": "39915ebc",
   "metadata": {},
   "outputs": [],
   "source": [
    "index = 0\n",
    "\n",
    "for w in sorted(word_counts, key=word_counts.get, reverse=True):\n",
    "    index += 1\n",
    "    \n",
    "    print(index, w, \"-->\", word_counts[w])"
   ]
  },
  {
   "cell_type": "markdown",
   "id": "172ab722",
   "metadata": {},
   "source": [
    "# Stop words\n",
    "These results are boring! I want to see the interesting words!"
   ]
  },
  {
   "cell_type": "code",
   "execution_count": null,
   "id": "5d4e3f12",
   "metadata": {},
   "outputs": [],
   "source": []
  },
  {
   "cell_type": "code",
   "execution_count": null,
   "id": "0bf2d283",
   "metadata": {},
   "outputs": [],
   "source": [
    "import nltk\n",
    "\n",
    "nltk.download(\"stopwords\")\n",
    "from nltk.corpus import stopwords\n",
    "from nltk.tokenize import word_tokenize\n",
    "nltk.download('punkt')    # Use nltk downloader to download resource \"punkt\"\n",
    "\n",
    "# Get a list of stop words in English\n",
    "stop_words = set(stopwords.words(\"english\"))\n"
   ]
  },
  {
   "cell_type": "code",
   "execution_count": null,
   "id": "f9173e54",
   "metadata": {},
   "outputs": [],
   "source": [
    "def get_word_counts(data_file):\n",
    "    with open(data_file) as f:\n",
    "        cache_contents = f.read()\n",
    "        books = json.loads(cache_contents)\n",
    "        book = books['https://www.gutenberg.org/cache/epub/23/pg23.txt\\n']\n",
    "        text = book['text'].lower().translate(str.maketrans('', '', string.punctuation))\n",
    "        words = re.split(r'\\s+', text)\n",
    "        word_counts = {}\n",
    "        for word in words:\n",
    "            if word not in stop_words:\n",
    "                if word in word_counts:\n",
    "                    word_counts[word] = word_counts[word] + 1\n",
    "                else:\n",
    "                    word_counts[word] = 1\n",
    "                \n",
    "#         print(word_counts)\n",
    "        return word_counts"
   ]
  },
  {
   "cell_type": "code",
   "execution_count": null,
   "id": "9f4e60dc",
   "metadata": {},
   "outputs": [],
   "source": [
    "word_counts = get_word_counts(\"douglass_cache.json\")"
   ]
  },
  {
   "cell_type": "code",
   "execution_count": null,
   "id": "b5e4e1ce",
   "metadata": {},
   "outputs": [],
   "source": [
    "index = 0\n",
    "\n",
    "for w in sorted(word_counts, key=word_counts.get, reverse=True):\n",
    "    index += 1\n",
    "    \n",
    "    print(index, w, \"-->\", word_counts[w])"
   ]
  },
  {
   "cell_type": "markdown",
   "id": "103052de",
   "metadata": {},
   "source": [
    "# We've had one work, yes...\n",
    "but what about **all** the works?"
   ]
  },
  {
   "cell_type": "code",
   "execution_count": null,
   "id": "d7d21db3",
   "metadata": {},
   "outputs": [],
   "source": [
    "def read_cache(data_file):\n",
    "    with open(data_file) as f:\n",
    "        cache_contents = f.read()\n",
    "        books = json.loads(cache_contents)\n",
    "        return books\n",
    "\n",
    "def get_book_word_freq(douglass_dict, word_counts):\n",
    "    text = douglass_dict['text'].lower().translate(str.maketrans('', '', string.punctuation))\n",
    "    words = re.split(r'\\s+', text)\n",
    "    for word in words:\n",
    "        if word in stop_words:\n",
    "#             print(word)\n",
    "            pass\n",
    "        elif word in word_counts:\n",
    "            word_counts[word] = word_counts[word] + 1\n",
    "        else:\n",
    "            word_counts[word] = 1\n",
    "    return word_counts"
   ]
  },
  {
   "cell_type": "code",
   "execution_count": null,
   "id": "9e1b1672",
   "metadata": {},
   "outputs": [],
   "source": [
    "word_counts_all = {}\n",
    "for book in list(books.keys()):\n",
    "    word_counts = get_book_word_freq(books[book], word_counts_all)\n",
    "    index = 0\n",
    "\n",
    "for w in sorted(word_counts, key=word_counts.get, reverse=True):\n",
    "    index += 1\n",
    "\n",
    "    print(index, w, \"-->\", word_counts[w])\n"
   ]
  },
  {
   "cell_type": "markdown",
   "id": "04fcd3e8",
   "metadata": {},
   "source": [
    "# Comparisons\n",
    "\n",
    "We have more than just one text here. What can we do with them as a collection?"
   ]
  },
  {
   "cell_type": "code",
   "execution_count": null,
   "id": "da2d2e47",
   "metadata": {},
   "outputs": [],
   "source": [
    "for book in list(books.keys()):\n",
    "    title = books[book]['title']\n",
    "    text = books[book]['text']\n",
    "    words = text.split(' ')\n",
    "    v_dens = round(len(words) / len(set(words)), 2) # higher number = more unique words\n",
    "    print('\\\"' + title + '\\\" Density: '+ str(v_dens))\n"
   ]
  },
  {
   "cell_type": "markdown",
   "id": "b6f0c804",
   "metadata": {},
   "source": [
    "## Word frequency comparison\n",
    "Remember all that code we just ran to do word frequency analysis? Well, turns out nltk can do it much, much faster."
   ]
  },
  {
   "cell_type": "code",
   "execution_count": null,
   "id": "bc4dbed3",
   "metadata": {},
   "outputs": [],
   "source": [
    "from nltk import FreqDist\n",
    "\n",
    "output = ''\n",
    "for book in list(books.keys()):\n",
    "    output += books[book]['text'].translate(str.maketrans('', '', string.punctuation))\n",
    "# Create a string object. By default, the function breaks sentences by periods. \n",
    "# Customize text or read files as needed\n",
    "\n",
    "# Tokenize the text\n",
    "words = word_tokenize(output)\n",
    "\n",
    "# Find the frequency distribution in the given text\n",
    "frequency_distribution = FreqDist(words)\n",
    "print(frequency_distribution)\n",
    "\n",
    "# Print the most common 10 words\n",
    "print(frequency_distribution.most_common(10))\n",
    "\n",
    "# Visualize word frequencies\n",
    "frequency_distribution.plot(10, cumulative=True)\n",
    "\n"
   ]
  },
  {
   "cell_type": "code",
   "execution_count": null,
   "id": "ccc4cada",
   "metadata": {},
   "outputs": [],
   "source": [
    "output = ''\n",
    "for book in list(books.keys()):\n",
    "    output += books[book]['text'].lower().translate(str.maketrans('', '', string.punctuation))\n",
    "# Create a string object. By default, the function breaks sentences by periods. \n",
    "# Customize text or read files as needed\n",
    "\n",
    "# Tokenize the text\n",
    "words = word_tokenize(output)\n",
    "clean_words = [word for word in words if word not in stop_words]\n",
    "\n",
    "# Find the frequency distribution in the given text\n",
    "frequency_distribution = FreqDist(clean_words)\n",
    "print(frequency_distribution)\n",
    "\n",
    "# Print the most common 10 words\n",
    "print(frequency_distribution.most_common(10))\n",
    "\n",
    "# Visualize word frequencies\n",
    "frequency_distribution.plot(10, cumulative=True)"
   ]
  },
  {
   "cell_type": "code",
   "execution_count": null,
   "id": "e304ac7a",
   "metadata": {},
   "outputs": [],
   "source": []
  },
  {
   "cell_type": "markdown",
   "id": "9c6caf83",
   "metadata": {},
   "source": [
    "# Looking for more?\n",
    "\n",
    "## Spring Break Software Carpentry!\n",
    "Do you use software in your work? Do you think you might be able to but aren't sure how? Do you want to learn the basics and best practices of combining computing and research? Then this is the workshop for you! \n",
    "\n",
    "This workshop will occur **February 26-27, 2024, from 9:00 am - 5:00 pm** in the Digital Scholarship lab on the second floor of the MSU Main library. It provides an introduction to three important computational skills: \n",
    "- Programming with Python\n",
    "- Using the command line\n",
    "- Tracking your work with Git\n",
    "[**Registration is required and closes on Thursday, Februrary 22, 2024.**](https://bookings.lib.msu.edu/event/11911756)\n",
    "[More info about training, including full schedule curriculum.](https://msu-icer.github.io/2024-02-26-msu/)\n",
    "\n",
    "\n",
    "## Join the Text Analysis Learning Group!\n",
    "Run by Devin Higgins and Kate Topham, this is a casual, beginner-friendly space to learn about tools, methods, and techniques for computational text anlaysis.\n",
    "\n",
    "Spring meetings: \n",
    "- March 7, 2024 11:30 AM - 1:30 PM Eastern\n",
    "- April 4, 2024 11:30 AM - 1:30 PM Eastern\n",
    "[Register here!](https://msu.zoom.us/meeting/register/tJMpcOCvpzIrHtcDT825wX13FWPQrxeHyGWU)\n",
    "\n",
    "\n"
   ]
  }
 ],
 "metadata": {
  "kernelspec": {
   "display_name": "Python 3 (ipykernel)",
   "language": "python",
   "name": "python3"
  },
  "language_info": {
   "codemirror_mode": {
    "name": "ipython",
    "version": 3
   },
   "file_extension": ".py",
   "mimetype": "text/x-python",
   "name": "python",
   "nbconvert_exporter": "python",
   "pygments_lexer": "ipython3",
   "version": "3.7.9"
  }
 },
 "nbformat": 4,
 "nbformat_minor": 5
}
